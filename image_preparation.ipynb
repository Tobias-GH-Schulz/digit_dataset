{
 "metadata": {
  "language_info": {
   "codemirror_mode": {
    "name": "ipython",
    "version": 3
   },
   "file_extension": ".py",
   "mimetype": "text/x-python",
   "name": "python",
   "nbconvert_exporter": "python",
   "pygments_lexer": "ipython3",
   "version": "3.7.9-final"
  },
  "orig_nbformat": 2,
  "kernelspec": {
   "name": "python3",
   "display_name": "Python 3.7.9 64-bit ('cv_clone': conda)",
   "metadata": {
    "interpreter": {
     "hash": "506a0803e919841df3bedef82007ac7b4a817707cd9bb596cb03b1ab622d9ef6"
    }
   }
  }
 },
 "nbformat": 4,
 "nbformat_minor": 2,
 "cells": [
  {
   "cell_type": "code",
   "execution_count": 1,
   "metadata": {},
   "outputs": [],
   "source": [
    "import random\n",
    "import os\n",
    "\n",
    "import cv2\n",
    "import imutils\n",
    "from skimage.segmentation import clear_border\n",
    "import numpy as np\n",
    "import matplotlib.pyplot as plt\n",
    "%matplotlib inline"
   ]
  },
  {
   "cell_type": "code",
   "execution_count": 2,
   "metadata": {},
   "outputs": [],
   "source": [
    "def detect_digits(input_path, font, index1):\n",
    "    index1 = index1\n",
    "    input_image = cv2.imread(input_path)\n",
    "    cv2.imwrite(\"./printed_digits/input_images/Check/input_image.jpg\", input_image)\n",
    "    input_image_sm = cv2.resize(input_image, (int(input_image.shape[1]/4), int(input_image.shape[0]/4)))\n",
    "    #converting to gray scale\n",
    "    input_gray=cv2.cvtColor(input_image_sm,cv2.COLOR_BGR2GRAY)\n",
    "\n",
    "    #applying canny edge detection\n",
    "    input_edged = cv2.Canny(input_gray, 50, 250)\n",
    "\n",
    "    input_dil = cv2.dilate(input_edged, (9,9), iterations=2)\n",
    "    cv2.imwrite(f\"./printed_digits/dilated/{font}/dilated_image\" + str(index1) + \".png\", input_dil)\n",
    "    \n",
    "    #finding contours\n",
    "    contours, _ = cv2.findContours(input_dil.copy(), cv2.RETR_EXTERNAL, cv2.CHAIN_APPROX_SIMPLE)\n",
    "    sorted_contours = sorted(contours, key=cv2.contourArea)\n",
    "    \n",
    "    idx = 0\n",
    "    count = len(sorted_contours)\n",
    "    for c in sorted_contours:\n",
    "        x,y,w,h = cv2.boundingRect(c) \n",
    "        idx+=1\n",
    "        padY = 5\n",
    "        padX = 9\n",
    "        if x < padX:\n",
    "            padX = x\n",
    "        if y < padY:\n",
    "            padY = y\n",
    "        cropped_single_digit=input_image_sm[y-padY:y+h+padY,x-padX:x+w+padX]\n",
    "        #cropping imagesabs\n",
    "        if cropped_single_digit is not None:\n",
    "            cv2.imwrite(f\"./printed_digits/cropped/{font}/{font}_\"+ str(index1) + \"_\" + str(idx) + \".png\", cropped_single_digit)\n",
    "\n",
    "    return input_image_sm, count"
   ]
  },
  {
   "cell_type": "code",
   "execution_count": 3,
   "metadata": {},
   "outputs": [],
   "source": [
    "font = input(\"Which font shall be prepared?\")\n",
    "\n",
    "# our folder path containing some images\n",
    "folder_path = f'./printed_digits/input_images/{font}'\n",
    "\n",
    "# loop on all files of the folder and build a list of files paths\n",
    "images = [os.path.join(folder_path, f) for f in os.listdir(folder_path) if os.path.isfile(os.path.join(folder_path, f))]\n",
    "images = [ x for x in images if \".DS_Store\" not in x ]\n",
    "\n",
    "index1 = 1\n",
    "\n",
    "for i in images:\n",
    "    input_image_sm, count = detect_digits(i, font, index1)\n",
    "    index1 += 1"
   ]
  },
  {
   "cell_type": "code",
   "execution_count": 109,
   "metadata": {},
   "outputs": [],
   "source": [
    "def prep_image(single_digit_path, font, index):\n",
    "    image = cv2.imread(single_digit_path)\n",
    "    image_gray=cv2.cvtColor(image,cv2.COLOR_BGR2GRAY)\n",
    "    ret, image_bw = cv2.threshold(image_gray, 0, 255, cv2.THRESH_BINARY_INV+ cv2.THRESH_OTSU)\n",
    "    image_dil = cv2.dilate(image_bw, None, iterations=0)\n",
    "        \n",
    "    contours = cv2.findContours(image_dil.copy(), cv2.RETR_EXTERNAL, cv2.CHAIN_APPROX_SIMPLE)\n",
    "    contours = imutils.grab_contours(contours)\n",
    "\n",
    "    # if no contours were found than this is an empty cell\n",
    "    if len(contours) == 0:\n",
    "        return None\n",
    "\n",
    "    # otherwise, find the largest contour in the cell and create a\n",
    "    # mask for the contour\n",
    "    main_cell_contour = max(contours, key=cv2.contourArea)\n",
    "    background = np.zeros(image_dil.shape, dtype=\"uint8\")\n",
    "    cv2.drawContours(background, [main_cell_contour], -1, 255, -1)\n",
    "\n",
    "    # apply the mask to the thresholded cell\n",
    "    image_masked = cv2.bitwise_and(image_dil, image_dil, mask=background)\n",
    "\n",
    "    cv2.imwrite(f\"./printed_digits/masked/{font}/\" + str(index) + \".png\", image_masked)\n",
    "\n",
    "    # center crop\n",
    "    w = 80\n",
    "    h = 80\n",
    "    \n",
    "    #center = tuple(np.array(image_rot.shape[1::-1]) / 2)\n",
    "    center = tuple(np.array(image_masked.shape[1::-1]) / 2)\n",
    "    \n",
    "    x = center[0] - w/2\n",
    "    y = center[1] - h/2\n",
    "\n",
    "    #image_crop = image_rot[int(y):int(y+h), int(x):int(x+w)]\n",
    "    image_crop = image_masked[int(y-20):int(y+h+20), int(x-20):int(x+w+20)]\n",
    "    \n",
    "    # resize\n",
    "    image_sm = cv2.resize(image_crop, (28, 28))\n",
    "\n",
    "    cv2.imwrite(f\"./printed_digits/train_images/{font}/{font}\" + str(index) + \".png\", image_sm)\n",
    "     \n",
    "    # reshape \n",
    "    image_reshaped = image_sm.reshape(1,28,28,1)\n",
    "    \n",
    "    test_image = (image_reshaped[...,::-1].astype(np.float32)) / 255.0 "
   ]
  },
  {
   "cell_type": "code",
   "execution_count": 114,
   "metadata": {},
   "outputs": [],
   "source": [
    "# our folder path containing some images\n",
    "folder_path = f'./printed_digits/cropped/{font}' \n",
    "\n",
    "# loop on all files of the folder and build a list of files paths\n",
    "images = [os.path.join(folder_path, f) for f in os.listdir(folder_path) if os.path.isfile(os.path.join(folder_path, f))]\n",
    "images = [ x for x in images if \".DS_Store\" not in x ]\n",
    "\n",
    "index1 = 1\n",
    "\n",
    "for i in images:\n",
    "    prep_image(i, font, index1)\n",
    "    index1 += 1"
   ]
  }
 ]
}