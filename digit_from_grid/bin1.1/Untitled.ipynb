{
 "cells": [
  {
   "cell_type": "code",
   "execution_count": 2,
   "metadata": {},
   "outputs": [],
   "source": [
    "import cv2\n",
    "from imutils.perspective import four_point_transform\n",
    "from imutils import grab_contours\n"
   ]
  },
  {
   "cell_type": "code",
   "execution_count": 3,
   "metadata": {},
   "outputs": [],
   "source": [
    "def find_puzzle(image):\n",
    "\t# convert the image to grayscale and blur it slightly\n",
    "    gray = cv2.cvtColor(image, cv2.COLOR_BGR2GRAY)\n",
    "    blurred = cv2.GaussianBlur(gray, (7, 7), 3)\n",
    "\n",
    "    # apply adaptive thresholding and then invert the threshold map\n",
    "\n",
    "    thresh = cv2.adaptiveThreshold(\n",
    "        blurred, 255, cv2.ADAPTIVE_THRESH_GAUSSIAN_C, cv2.THRESH_BINARY, 11, 2)\n",
    "    thresh = cv2.bitwise_not(thresh)\n",
    "\n",
    "    # find contours in the thresholded image and sort them by size in\n",
    "# descending order\n",
    "    cnts = cv2.findContours(\n",
    "        thresh.copy(), cv2.RETR_EXTERNAL, cv2.CHAIN_APPROX_SIMPLE)\n",
    "    cnts = grab_contours(cnts)\n",
    "    cnts = sorted(cnts, key=cv2.contourArea, reverse=True)\n",
    "# initialize a contour that corresponds to the puzzle outline\n",
    "    puzzleContour = None\n",
    "# loop over the contours\n",
    "    for c in cnts:\n",
    "        # approximate the contour\n",
    "        peri = cv2.arcLength(c, True)\n",
    "        approx = cv2.approxPolyDP(c, 0.02 * peri, True)\n",
    "\n",
    "        # if the approximated contour has four points, then we can\n",
    "        # assume we have found the outline of the puzzle\n",
    "        if len(approx) == 4:\n",
    "            puzzleContour = approx\n",
    "            break\n",
    "\n",
    "    # if the puzzle contour is empty then the script could not find\n",
    "    # the outline of the Sudoku puzzle so raise an error\n",
    "    if puzzleContour is None:\n",
    "        raise Exception((\"Could not find Sudoku puzzle outline.\"))\n",
    "\n",
    "    # apply a four point perspective transform to both the original\n",
    "    # image and grayscale image to obtain a top-down bird's eye view\n",
    "    # of the puzzle\n",
    "    puzzle = four_point_transform(image, puzzleContour.reshape(4, 2))\n",
    "    warped = four_point_transform(gray, puzzleContour.reshape(4, 2))\n",
    "\n",
    "    return puzzle, warped"
   ]
  },
  {
   "cell_type": "code",
   "execution_count": 5,
   "metadata": {},
   "outputs": [],
   "source": [
    "sudoku = cv2.imread('/home/lorenzo/Desktop/Personal_project/digit_dataset/digit_from_grid/bin1.1/sudoku_img/sudoku2.jpg')\n",
    "puzz, warped  = find_puzzle(sudoku)\n",
    "   \n",
    "cv2.imshow(\"win\",puzz)\n",
    "cv2.waitKey(0)\n",
    "cv2.destroyAllWindows()"
   ]
  },
  {
   "cell_type": "code",
   "execution_count": null,
   "metadata": {},
   "outputs": [],
   "source": []
  }
 ],
 "metadata": {
  "kernelspec": {
   "display_name": "Python 3",
   "language": "python",
   "name": "python3"
  },
  "language_info": {
   "codemirror_mode": {
    "name": "ipython",
    "version": 3
   },
   "file_extension": ".py",
   "mimetype": "text/x-python",
   "name": "python",
   "nbconvert_exporter": "python",
   "pygments_lexer": "ipython3",
   "version": "3.8.5"
  }
 },
 "nbformat": 4,
 "nbformat_minor": 4
}
